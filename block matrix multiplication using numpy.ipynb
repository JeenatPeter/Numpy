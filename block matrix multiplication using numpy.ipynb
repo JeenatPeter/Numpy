{
 "cells": [
  {
   "cell_type": "code",
   "execution_count": 1,
   "metadata": {},
   "outputs": [],
   "source": [
    "import numpy as np"
   ]
  },
  {
   "cell_type": "code",
   "execution_count": 2,
   "metadata": {},
   "outputs": [
    {
     "name": "stdout",
     "output_type": "stream",
     "text": [
      "[[ 55  53]\n",
      " [147 141]]\n",
      "[[ 49]\n",
      " [129]]\n",
      "[[283 269]\n",
      " [262 251]]\n",
      "[[243]\n",
      " [229]]\n"
     ]
    }
   ],
   "source": [
    "a11=np.array([[1,2],[5,6]])\n",
    "b11=np.array([[1,2],[12,9]])\n",
    "b12=np.array([[3],[5]]).reshape((2,1))\n",
    "b21=np.array([10,11]).reshape((1,2))\n",
    "a12=np.array([[3],[7]])\n",
    "a21=np.array([[9,12],[10,11]])\n",
    "a22=np.array([[13],[12]])\n",
    "b22=np.array([12]).reshape((1,1))\n",
    "a=np.dot(a11,b11)\n",
    "b=np.dot(a12,b21)\n",
    "print(a+b)\n",
    "c=np.dot(a11,b12)\n",
    "d=np.dot(a12,b22)\n",
    "print(c+d)\n",
    "e=np.dot(a21,b11)\n",
    "f=np.dot(a22,b21)\n",
    "print(e+f)\n",
    "g=np.dot(a21,b12)\n",
    "h=np.dot(a22,b22)\n",
    "print(g+h)"
   ]
  },
  {
   "cell_type": "code",
   "execution_count": 3,
   "metadata": {},
   "outputs": [
    {
     "name": "stdout",
     "output_type": "stream",
     "text": [
      "[[ 55  53  49]\n",
      " [147 141 129]\n",
      " [283 269 243]\n",
      " [262 251 229]]\n"
     ]
    }
   ],
   "source": [
    "z=np.concatenate((a+b,c+d),axis=1)\n",
    "z1=np.concatenate((e+f,g+h),axis=1)\n",
    "x=np.concatenate((z,z1))\n",
    "print(x)"
   ]
  }
 ],
 "metadata": {
  "kernelspec": {
   "display_name": "Python 3",
   "language": "python",
   "name": "python3"
  },
  "language_info": {
   "codemirror_mode": {
    "name": "ipython",
    "version": 3
   },
   "file_extension": ".py",
   "mimetype": "text/x-python",
   "name": "python",
   "nbconvert_exporter": "python",
   "pygments_lexer": "ipython3",
   "version": "3.8.3"
  }
 },
 "nbformat": 4,
 "nbformat_minor": 4
}
